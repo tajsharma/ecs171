{
 "cells": [
  {
   "attachments": {},
   "cell_type": "markdown",
   "metadata": {},
   "source": [
    " Entropy(S) = - ∑ P_(I) * log2 P_(I)\n",
    "s = sample space\n",
    "P_(i) probability of each class in 's'\n",
    "\n",
    "\n",
    "Entropy for target variable -> 'Played'\n",
    "p(yes) = 9/14\n",
    "p(no) = 5/14\n",
    "Entropy(Played) = - [ (9/14)*log2(9/14) + (5/14)*log2(5/14) ] = 0.94\n",
    "\n",
    "\n",
    "Entropy for the rest of the attributes\n",
    "\n",
    "1: Temperature\n",
    "Entropy(Mild) = - [ (4/6)*log2(4/6) + (2/6)*log2(2/6) ] = ~0.9183\n",
    "Entropy(Hot) = - [ (2/3)*log2(2/3) + (1/3)*log2(1/3) ] = ~0.9183\n",
    "Entropy(Cool) = - [ (3/5)*log2(3/5) + (2/5)*log2(2/5) ] = ~0.9709\n",
    "Entropy(Temperature) = (6/14)*Entropy(Mild) + (3/14)*Entropy(Hot) + (5/14)*Entropy(Cool) = ~0.9341\n",
    "\n",
    "info gain:\n",
    "Gain(Temperature) = Entropy(Played) - Entropy(Temperature) = 0.94 - 0.9341 = 0.0059\n",
    "\n",
    "2. Outlook\n",
    "Entropy(Sunny) = - [ (2/5)*log2(2/5) + (3/5)*log2(3/5) ] = ~0.9709\n",
    "Entropy(Overcast) = - [ (4/4)*log2(4/4) + (0/4)*log2(0/4) ] = 0\n",
    "Entropy(Rain) = - [ (3/5)*log2(3/5) + (2/5)*log2(2/5) ] = ~0.9709\n",
    "Entropy(Outlook) = \n",
    "(5/14)*Entropy(Sunny) + (4/14)*Entropy(Overcast) + (5/14)*Entropy(Rain) = ~0.6935\n",
    "\n",
    "Gain(Outlook) = Entropy(Played) - Entropy(Outlook) = 0.94 - 0.6935 = 0.2465 <- has the largest gain\n",
    "\n",
    "\n",
    "3. Humidity\n",
    "Entropy(High) = - [ (5/8)*log2(5/8) + (3/8)*log2(3/8) ] = ~0.9544\n",
    "Entropy(Low) = - [ (4/6)*log2(4/6) + (2/6)*log2(2/6) ] = ~0.9183\n",
    "Entropy(Humidity) = (8/14)*Entropy(High) + (6/14)*Entropy(Low) = ~0.9388\n",
    "\n",
    "Gain(Humidity) = Entropy(Played) - Entropy(Humidity) = 0.94 - 0.9388 = 0.0012\n",
    "\n",
    "\n",
    "4. Windy \n",
    "Entropy(Yes) = - [ (3/6)*log2(3/6) + (3/6)*log2(3/6) ] = 1\n",
    "Entropy(No) = - [ (6/8)*log2(6/8) + (2/8)*log2(2/8) ] = ~0.8113\n",
    "Entropy(Windy) = (6/14)*Entropy(Yes) + (8/14)*Entropy(No) = ~0.8922\n",
    "\n",
    "Gain(Windy) = Entropy(Played) - Entropy(Windy) = 0.94 - 0.8922 = 0.0478\n",
    "\n",
    "\n"
   ]
  }
 ],
 "metadata": {
  "language_info": {
   "name": "python"
  },
  "orig_nbformat": 4
 },
 "nbformat": 4,
 "nbformat_minor": 2
}
