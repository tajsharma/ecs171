{
 "cells": [
  {
   "cell_type": "markdown",
   "id": "0ceeeb46",
   "metadata": {},
   "source": [
    "# Homework 2\n",
    "\n",
    "For this assignment, you will be developing an artificial neural network to classify data given in the __[Dry Beans Data Set](https://archive.ics.uci.edu/ml/datasets/Dry+Bean+Dataset#)__. This data set was obtained as a part of a research study by Selcuk University, Turkey, in which a computer vision system was developed to distinguish seven different registered varieties of dry beans with similar features. More details on the study can be found in the following __[research paper](https://www.sciencedirect.com/science/article/pii/S0168169919311573)__.\n",
    "\n",
    "## About the Data Set For Q1-2\n",
    "Seven different types of dry beans were used in a study in Selcuk University, Turkey, taking into account the features such as form, shape, type, and structure by the market situation. A computer vision system was developed to distinguish seven different registered varieties of dry beans with similar features in order to obtain uniform seed classification. For the classification model, images of 13611 grains of 7 different registered dry beans were taken with a high-resolution camera. Bean images obtained by computer vision system were subjected to segmentation and feature extraction stages, and a total of 16 features - 12 dimensions and 4 shape forms - were obtained from the grains.\n",
    "\n",
    "Number of Instances (records in the data set): __13611__\n",
    "\n",
    "Number of Attributes (fields within each record, including the class): __17__\n",
    "\n",
    "### Data Set Attribute Information:\n",
    "\n",
    "1. __Area (A)__ : The area of a bean zone and the number of pixels within its boundaries.\n",
    "2. __Perimeter (P)__ : Bean circumference is defined as the length of its border.\n",
    "3. __Major axis length (L)__ : The distance between the ends of the longest line that can be drawn from a bean.\n",
    "4. __Minor axis length (l)__ : The longest line that can be drawn from the bean while standing perpendicular to the main axis.\n",
    "5. __Aspect ratio (K)__ : Defines the relationship between L and l.\n",
    "6. __Eccentricity (Ec)__ : Eccentricity of the ellipse having the same moments as the region.\n",
    "7. __Convex area (C)__ : Number of pixels in the smallest convex polygon that can contain the area of a bean seed.\n",
    "8. __Equivalent diameter (Ed)__ : The diameter of a circle having the same area as a bean seed area.\n",
    "9. __Extent (Ex)__ : The ratio of the pixels in the bounding box to the bean area.\n",
    "10. __Solidity (S)__ : Also known as convexity. The ratio of the pixels in the convex shell to those found in beans.\n",
    "11. __Roundness (R)__ : Calculated with the following formula: (4piA)/(P^2)\n",
    "12. __Compactness (CO)__ : Measures the roundness of an object: Ed/L\n",
    "13. __ShapeFactor1 (SF1)__\n",
    "14. __ShapeFactor2 (SF2)__\n",
    "15. __ShapeFactor3 (SF3)__\n",
    "16. __ShapeFactor4 (SF4)__\n",
    "\n",
    "17. __Classes : *Seker, Barbunya, Bombay, Cali, Dermosan, Horoz, Sira*__\n",
    "\n",
    "### Libraries that can be used :\n",
    "- NumPy, SciPy, Pandas, Sci-Kit Learn, TensorFlow, Keras\n",
    "- Any other library used during the lectures and discussion sessions.\n",
    "\n",
    "## About the Data Set For Q3\n",
    "In this problem, we will be exploring the car dataset and analyzing their fuel efficiency. <br >\n",
    "Specifically, we will do some exploratory analysis with visualizations, then we will build a model for Simple Linear Regression, a model for Polynomial Regression, and one model for Logistic Regression. <br >\n",
    "**The given dataset is already modified and cleaned**, but you can find [the original information here.](https://archive.ics.uci.edu/ml/datasets/auto+mpg).\n",
    "\n",
    "## Dataset Attribute Information\n",
    "\n",
    "1. **mpg**: Miles per gallon. This is one primary measurement for car fuel efficiency.\n",
    "2. **displacement** : The cylinder volumes in cubic inches.\n",
    "3. **horsepower** : Engine power.\n",
    "4. **weight** : In pounds.\n",
    "5. **acceleration** : The elapsed time in seconds to go from 0 to 60mph.\n",
    "6. **origin** : Region of origin.\n",
    "\n",
    "### Libraries that can be used: numpy, pandas, scikit-learn, seaborn, plotly, matplotlib\n",
    "Any libraries used in the discussion materials are also allowed.\n",
    "\n",
    "\n",
    "### Other Notes\n",
    "- Don't worry about not being able to achieve high accuracy, it is neither the goal nor the grading standard of this assignment.\n",
    "- Discussion materials should be helpful for doing the assignments.\n",
    "- The homework submission should be a .ipynb file.\n"
   ]
  },
  {
   "cell_type": "markdown",
   "id": "0264c751",
   "metadata": {},
   "source": [
    "\n",
    "## Exercise 1 : Building a Feed-Forward Neural Network(50 points in total)\n",
    "\n",
    "### Exercise 1.1 : Data Preprocessing (10 points)\n",
    "\n",
    "- As the classes are categorical, use one-hot encoding to represent the set of classes. You will find this useful when developing the output layer of the neural network.\n",
    "- Normalize each field of the input data using the min-max normalization technique.\n",
    "\n",
    "### Exercise 1.2 : Training and Testing the Neural Network (40 points)\n",
    "\n",
    "Design a 4-layer artificial neural network, specifically a feed-forward multi-layer perceptron (using the sigmoid activation function), to classify the type of 'Dry Bean' given the other attributes in the data set, similar to the one mentioned in the paper above. Please note that this is a multi-class classification problem so select the right number of nodes accordingly for the output layer.\n",
    "\n",
    "For training and testing the model, split the data into training and testing set by __90:10__ and use the training set for training the model and the test set to evaluate the model performance.\n",
    "\n",
    "Consider the following hyperparameters while developing your model :\n",
    "\n",
    "- Number of nodes in each hidden layer should be (12, 3)\n",
    "- Learning rate should be 0.3\n",
    "- Number of epochs should be 500\n",
    "- The sigmoid function should be used as the activation function in each layer\n",
    "- Stochastic Gradient Descent should be used to minimize the error rate\n",
    "\n",
    "__Requirements once the model has been trained :__\n",
    "\n",
    "- A confusion matrix for all classes, specifying the true positive, true negative, false positive, and false negative cases for each category in the class\n",
    "- The accuracy and mean squared error (MSE) of the model\n",
    "- The precision and recall for each label in the class\n",
    "\n",
    "__Notes :__\n",
    "\n",
    "- Splitting of the dataset should be done __after__ the data preprocessing step.\n",
    "- The mean squared error (MSE) values obtained __should be positive__.\n"
   ]
  },
  {
   "cell_type": "code",
   "execution_count": 36,
   "id": "ab0819db",
   "metadata": {},
   "outputs": [],
   "source": [
    "#imports\n",
    "import numpy as np\n",
    "import pandas as pd\n",
    "import matplotlib.pyplot as plt "
   ]
  },
  {
   "cell_type": "code",
   "execution_count": 37,
   "id": "8009e35f",
   "metadata": {},
   "outputs": [
    {
     "data": {
      "text/plain": [
       "'\\nprint(\"Dataset :\")\\nprint(dataset.head())\\nprint(\"Class: \")\\nprint(dataset[\\'Class\\'].unique())\\n\\nprint(\"\\nDimensions of the dataset : \", dataset.shape)\\nprint(\"\\nFeatures of the dataset :\")\\nprint(dataset.describe(include = \\'all\\'))\\n'"
      ]
     },
     "execution_count": 37,
     "metadata": {},
     "output_type": "execute_result"
    }
   ],
   "source": [
    "#1.1 -> use one hot encoding to numerically represnet diff classes\n",
    "#the values are normalized in this format\n",
    "SEKER = [1,0,0,0,0,0,0]\n",
    "BARBUNYA = [0,1,0,0,0,0,0]\n",
    "BOMBAY = [0,0,1,0,0,0,0]\n",
    "CALI = [0,0,0,1,0,0,0]\n",
    "DERMOSAN = [0,0,0,0,1,0,0]\n",
    "HOROZ = [0,0,0,0,0,1,0]\n",
    "SIRA = [0,0,0,0,0,0,1]\n",
    "\n",
    "#1.2\n",
    "dataset = pd.read_csv(\"Dry_Beans_Dataset.csv\")\n",
    "\n",
    "'''\n",
    "print(\"Dataset :\")\n",
    "print(dataset.head())\n",
    "print(\"Class: \")\n",
    "print(dataset['Class'].unique())\n",
    "\n",
    "print(\"\\nDimensions of the dataset : \", dataset.shape)\n",
    "print(\"\\nFeatures of the dataset :\")\n",
    "print(dataset.describe(include = 'all'))\n",
    "'''\n",
    "\n"
   ]
  },
  {
   "cell_type": "code",
   "execution_count": 38,
   "id": "31432e3f",
   "metadata": {},
   "outputs": [
    {
     "name": "stdout",
     "output_type": "stream",
     "text": [
      "Pre-processed data :\n",
      "            Area  Perimeter  MajorAxisLength  MinorAxisLength  AspectRation  \\\n",
      "0      0.104229   0.198694         0.246967         0.165518      0.549934   \n",
      "1      0.055748   0.114396         0.135499         0.126473      0.385468   \n",
      "2      0.028340   0.055731         0.078990         0.086908      0.336523   \n",
      "3      0.124097   0.218773         0.257541         0.213740      0.464403   \n",
      "4      0.008715   0.013589         0.016569         0.077079      0.194315   \n",
      "...         ...        ...              ...              ...           ...   \n",
      "13606  0.083417   0.150914         0.162566         0.189677      0.315266   \n",
      "13607  0.646868   0.733202         0.747292         0.728031      0.426928   \n",
      "13608  0.118900   0.200327         0.218063         0.236224      0.342497   \n",
      "13609  0.097606   0.217940         0.274969         0.124833      0.723842   \n",
      "13610  0.112880   0.194735         0.214304         0.223307      0.358612   \n",
      "\n",
      "       Eccentricity  ConvexArea  EquivDiameter    Extent  Solidity  roundness  \\\n",
      "0          0.883887    0.101465       0.190304  0.333127  0.933884   0.715687   \n",
      "1          0.795443    0.054511       0.110772  0.533453  0.902047   0.776947   \n",
      "2          0.758933    0.027513       0.059695  0.792964  0.924703   0.869780   \n",
      "3          0.843291    0.122044       0.219934  0.401647  0.858085   0.763829   \n",
      "4          0.604452    0.008307       0.019274  0.705791  0.931560   0.922235   \n",
      "...             ...         ...            ...       ...       ...        ...   \n",
      "13606      0.741008    0.081706       0.157567  0.774206  0.891199   0.827486   \n",
      "13607      0.822045    0.634805       0.751256  0.838477  0.861162   0.716156   \n",
      "13608      0.763728    0.115823       0.212324  0.810335  0.930870   0.834814   \n",
      "13609      0.942934    0.095347       0.180089  0.190594  0.908981   0.549951   \n",
      "13610      0.776173    0.110019       0.203386  0.551936  0.926158   0.817568   \n",
      "\n",
      "       Compactness  ShapeFactor1  ShapeFactor2  ShapeFactor3  ShapeFactor4  \n",
      "0         0.300877      0.570351      0.256253      0.256074      0.957751  \n",
      "1         0.452920      0.645632      0.440609      0.400144      0.941143  \n",
      "2         0.505931      0.733560      0.559513      0.452690      0.953829  \n",
      "3         0.369044      0.498138      0.276116      0.319448      0.829136  \n",
      "4         0.682223      0.756639      0.828764      0.636047      0.977839  \n",
      "...            ...           ...           ...           ...           ...  \n",
      "13606     0.527803      0.531230      0.445374      0.474719      0.922317  \n",
      "13607     0.406893      0.091699      0.076613      0.355491      0.866564  \n",
      "13608     0.499111      0.460640      0.368388      0.445864      0.949738  \n",
      "13609     0.165785      0.650586      0.185084      0.136328      0.911521  \n",
      "13610     0.480530      0.479590      0.363443      0.427363      0.931075  \n",
      "\n",
      "[13611 rows x 16 columns]\n",
      "Pre-processed class :\n",
      "        BARBUNYA  BOMBAY  CALI  DERMASON  HOROZ  SEKER  SIRA\n",
      "0             0       0     0         0      0      0     1\n",
      "1             0       0     0         1      0      0     0\n",
      "2             0       0     0         1      0      0     0\n",
      "3             0       0     0         0      0      0     1\n",
      "4             0       0     0         1      0      0     0\n",
      "...         ...     ...   ...       ...    ...    ...   ...\n",
      "13606         0       0     0         1      0      0     0\n",
      "13607         0       1     0         0      0      0     0\n",
      "13608         0       0     0         0      0      0     1\n",
      "13609         0       0     0         0      1      0     0\n",
      "13610         0       0     0         0      0      0     1\n",
      "\n",
      "[13611 rows x 7 columns]\n",
      "Accuracy :  0.9111600587371512\n",
      "Mean Square Error :  0.0209775540172016\n",
      "[[0 0 0 0 0 0 1]\n",
      " [0 0 0 0 1 0 0]\n",
      " [0 0 0 0 0 0 1]\n",
      " [0 0 0 0 0 0 1]\n",
      " [0 0 0 0 1 0 0]]\n",
      "Confusion Matrix for each label : \n",
      "[[[1217    3]\n",
      "  [  14  128]]\n",
      "\n",
      " [[1313    0]\n",
      "  [   0   49]]\n",
      "\n",
      " [[1159   11]\n",
      "  [  11  181]]\n",
      "\n",
      " [[1002   35]\n",
      "  [  19  306]]\n",
      "\n",
      " [[1174    7]\n",
      "  [  13  168]]\n",
      "\n",
      " [[1173    4]\n",
      "  [   7  178]]\n",
      "\n",
      " [[1053   21]\n",
      "  [  55  233]]]\n",
      "Classification Report : \n",
      "              precision    recall  f1-score   support\n",
      "\n",
      "           0       0.98      0.90      0.94       142\n",
      "           1       1.00      1.00      1.00        49\n",
      "           2       0.94      0.94      0.94       192\n",
      "           3       0.90      0.94      0.92       325\n",
      "           4       0.96      0.93      0.94       181\n",
      "           5       0.98      0.96      0.97       185\n",
      "           6       0.92      0.81      0.86       288\n",
      "\n",
      "   micro avg       0.94      0.91      0.93      1362\n",
      "   macro avg       0.95      0.93      0.94      1362\n",
      "weighted avg       0.94      0.91      0.92      1362\n",
      " samples avg       0.91      0.91      0.91      1362\n",
      "\n"
     ]
    },
    {
     "name": "stderr",
     "output_type": "stream",
     "text": [
      "/home/tajmoney/.local/lib/python3.10/site-packages/sklearn/metrics/_classification.py:1344: UndefinedMetricWarning: Precision and F-score are ill-defined and being set to 0.0 in samples with no predicted labels. Use `zero_division` parameter to control this behavior.\n",
      "  _warn_prf(average, modifier, msg_start, len(result))\n"
     ]
    }
   ],
   "source": [
    "from sklearn.model_selection import train_test_split\n",
    "from sklearn.neural_network import MLPClassifier\n",
    "from sklearn.preprocessing import MinMaxScaler\n",
    "from sklearn.metrics import classification_report, confusion_matrix, multilabel_confusion_matrix\n",
    "from sklearn.metrics import mean_squared_error, accuracy_score, precision_score, recall_score ,r2_score\n",
    "\n",
    "X = dataset.drop('Class', axis = 1)\n",
    "y = dataset['Class']\n",
    "\n",
    "scaler = MinMaxScaler(feature_range=(0, 1))\n",
    "X_rescaled = scaler.fit_transform(X)\n",
    "X = pd.DataFrame(data = X_rescaled, columns = X.columns)\n",
    "\n",
    "set_of_classes = y.value_counts().index.tolist()\n",
    "set_of_classes= pd.DataFrame({'Class': set_of_classes})\n",
    "y = pd.get_dummies(y)\n",
    "y = y.astype(int)\n",
    "\n",
    "print(\"Pre-processed data :\\n\",X)\n",
    "print(\"Pre-processed class :\\n\",y)\n",
    "\n",
    "\n",
    "data_train, data_test, class_train, class_test = train_test_split(X, y, test_size=0.1)\n",
    "mlp = MLPClassifier(solver = 'sgd', random_state = 42, activation = 'logistic', learning_rate_init = 0.3, batch_size = 100, hidden_layer_sizes = (12, 3), max_iter = 500)\n",
    "\n",
    "mlp.fit(data_train,class_train)\n",
    "pred = mlp.predict(data_test)\n",
    "\n",
    "print(\"Accuracy : \", accuracy_score(class_test, pred))\n",
    "print(\"Mean Square Error : \", mean_squared_error(class_test, pred))\n",
    "\n",
    "print(pred[:5])\n",
    "print(\"Confusion Matrix for each label : \")\n",
    "print(multilabel_confusion_matrix(class_test, pred))\n",
    "\n",
    "print(\"Classification Report : \")\n",
    "print(classification_report(class_test, pred))\n"
   ]
  },
  {
   "cell_type": "markdown",
   "id": "083f5188",
   "metadata": {},
   "source": [
    "## Exercise 2 : k-fold Cross Validation (10 points in total)\n",
    "\n",
    "In order to avoid using biased models, use 10-fold cross validation to generalize the model based on the given data set.\n",
    "\n",
    "__Requirements :__\n",
    "- The accuracy and MSE values during each iteration of the cross validation\n",
    "- The overall average accuracy and MSE value\n",
    "\n",
    "__Note :__ The mean squared error (MSE) values obtained should be positive."
   ]
  },
  {
   "cell_type": "code",
   "execution_count": 39,
   "id": "196ffd8f",
   "metadata": {},
   "outputs": [
    {
     "name": "stdout",
     "output_type": "stream",
     "text": [
      "Coefficients: \n",
      " [[-6.72765542e+01  1.15588058e+01 -5.91667557e+01 -6.46687735e+01\n",
      "   1.34331746e+01 -6.80551814e-01  5.79389980e+01  1.19278022e+02\n",
      "   3.89213910e-02  7.38889256e-01  2.48669285e-01  3.83726557e+01\n",
      "   5.44912577e+00 -3.57207663e+00 -1.84627256e+01 -2.05532305e+00]\n",
      " [ 1.09041254e+01 -1.72192429e+00 -3.63002350e+00  1.40244992e+00\n",
      "   1.70453387e+00  2.65918054e-01 -5.39395541e+00 -3.08743352e-01\n",
      "  -1.46467398e-02 -1.10612778e-01 -1.53578775e-01  1.19571340e+00\n",
      "  -4.33596612e-01  4.14284729e-01 -1.04682788e+00 -7.10548660e-02]\n",
      " [-1.77479863e+01 -1.49725093e+01  3.33819230e+01  2.41478264e+01\n",
      "  -1.43221943e+01 -1.18893354e+00 -6.51831399e+00 -1.11061949e+01\n",
      "   1.10300158e-01 -2.85747690e-01 -1.68752607e+00 -2.15242421e+01\n",
      "   4.00396927e+00  5.43674912e+00  6.02497356e+00  1.24964867e+00]\n",
      " [ 5.72108766e+01  1.37556350e+01  9.85833505e+01  9.41784786e+01\n",
      "   6.35146180e+00 -8.29728077e+00 -6.81458296e+01 -1.80625057e+02\n",
      "  -1.94726402e-02 -1.62639663e+00  2.98137401e+00  1.13737708e+02\n",
      "   6.70567057e+00  1.91032257e+00 -1.14575448e+02  3.12127491e+00]\n",
      " [ 8.31143554e+00  6.34403489e-01 -2.63341119e+01 -5.76413467e+00\n",
      "  -5.31630669e+00  1.04510862e+01 -3.68385138e-01  1.92930754e+01\n",
      "  -6.13803753e-02  5.35590498e-01 -3.92895663e-01 -9.07185252e+01\n",
      "  -4.71228937e+00  3.14987209e+00  8.43138446e+01 -6.76548555e-01]\n",
      " [-1.91751800e+01 -1.01504409e+00 -2.84480964e+01 -4.83677361e+01\n",
      "  -3.32111821e+01  1.69063662e+01  2.23869720e+01  7.00552214e+01\n",
      "  -1.94106356e-02  3.32546088e-01  2.19618842e-01 -2.04619547e+02\n",
      "   2.77275677e+00 -7.41171450e+00  2.00133419e+02  2.61864987e-01]\n",
      " [ 2.77732830e+01 -8.23936660e+00 -1.43862859e+01 -9.28110574e-01\n",
      "   3.13605128e+01 -1.74566044e+01  1.00514125e-01 -1.65863239e+01\n",
      "  -3.43111578e-02  4.15731261e-01 -1.21566163e+00  1.63556237e+02\n",
      "  -1.37856364e+01  7.25626160e-02 -1.56387236e+02 -1.82986209e+00]]\n",
      "\n",
      "Mean squared error: 0.04\n",
      "\n",
      "Coefficient of determination: 0.70\n",
      "\n",
      "Evaluation Scores: \n",
      "[0.69125075 0.69168995 0.69305519 0.66844332 0.67528596 0.69480457\n",
      " 0.67760939 0.68976174 0.67108666 0.66422012]\n",
      "Mean R2: 0.682\n"
     ]
    }
   ],
   "source": [
    "from sklearn.model_selection import cross_val_score\n",
    "from sklearn import datasets\n",
    "from sklearn.model_selection import cross_val_score\n",
    "from sklearn.linear_model import LinearRegression\n",
    "\n",
    "reg = LinearRegression()\n",
    "regmodel = reg.fit(data_train,class_train)\n",
    "\n",
    "print('Coefficients: \\n', regmodel.coef_)\n",
    "reg_predictions=reg.predict(data_test)\n",
    "\n",
    "# The mean squared error\n",
    "print('\\nMean squared error: %.2f' % mean_squared_error(class_test, reg_predictions))\n",
    "# The coefficient of determination: 1 is perfect prediction\n",
    "print('\\nCoefficient of determination: %.2f' % r2_score(class_test, reg_predictions))\n",
    "\n",
    "print('\\nEvaluation Scores: ')\n",
    "# Array of scores of the estimator for each run of the cross validation.\n",
    "# cv: Determines the cross-validation splitting strategy\n",
    "scores = cross_val_score(LinearRegression(), X, y, cv=10, scoring='r2')\n",
    "print(scores)\n",
    "\n",
    "# report performance\n",
    "print('Mean R2: %.3f' % (np.mean(np.abs(scores))))"
   ]
  },
  {
   "cell_type": "markdown",
   "id": "0f7491c1",
   "metadata": {},
   "source": [
    "## Exercise 3 - Logistic Regression (20 points in total)\n",
    "Recall the dataset from last week homework\n",
    "\n",
    "Now we are going to build a classification model on ``origin`` using all the other 5 attributes. <br >\n",
    "Note that Logistic Regression is a binary classificaiton algorithm.\n",
    "\n",
    "### Exercise 3.1 - Processing and Splitting the Dataset (5 points)\n",
    "In this exercise 3, we only consider those observations where they originate from either \"USA\" or \"Japan\". <br >\n",
    "So please **remove** those observations that originate from \"Europe\". <br >\n",
    "And then, split the data into training and testing set with the ratio of 80:20. <br >"
   ]
  },
  {
   "cell_type": "code",
   "execution_count": 40,
   "id": "850aa401",
   "metadata": {},
   "outputs": [],
   "source": [
    "cardata = pd.read_csv(\"auto-mpg.csv\")\n",
    "filtered = cardata[cardata['origin'].isin(['USA','Japan'])]"
   ]
  },
  {
   "cell_type": "markdown",
   "id": "89374dbf",
   "metadata": {},
   "source": [
    "### Exercise 3.2 - Logistic Regression (15 points)\n",
    "\n",
    "Using all the other 5 attributes, please build a Logistic Regression model that distinguishes between cars from Japan and cars from the USA. <br >\n",
    "Then, **if we are distinguishing between Japan and Europe this time, how do you think the model performance(in terms of accuracy) will change? Provide your reasoning.** (Hint: Exercise 1)\n",
    "\n",
    "Requirements\n",
    " - Report the testing precision and recall for both regions."
   ]
  },
  {
   "cell_type": "code",
   "execution_count": 41,
   "id": "03fbeb4e",
   "metadata": {},
   "outputs": [
    {
     "name": "stdout",
     "output_type": "stream",
     "text": [
      "USA precision: 1.00, recall: 0.87\n",
      "Japan precision: 0.00, recall: 0.00\n"
     ]
    },
    {
     "name": "stderr",
     "output_type": "stream",
     "text": [
      "/home/tajmoney/.local/lib/python3.10/site-packages/sklearn/metrics/_classification.py:1344: UndefinedMetricWarning: Recall is ill-defined and being set to 0.0 due to no true samples. Use `zero_division` parameter to control this behavior.\n",
      "  _warn_prf(average, modifier, msg_start, len(result))\n"
     ]
    }
   ],
   "source": [
    "from sklearn.linear_model import LogisticRegression\n",
    "from sklearn.metrics import precision_score, recall_score\n",
    "\n",
    "X = filtered[['mpg', 'displacement', 'horsepower', 'weight', 'acceleration']]\n",
    "y = filtered['origin']\n",
    "\n",
    "y = y.map({'USA': 1, 'Japan': 0})\n",
    "\n",
    "Car_data_train, Car_data_test, Car_class_train, Car_class_test = train_test_split(X, y, test_size=0.2)\n",
    "\n",
    "# Build a logistic regression model\n",
    "logreg = LogisticRegression()\n",
    "logreg.fit(Car_data_train, Car_class_train)\n",
    "\n",
    "# Predict the class labels for the testing set\n",
    "Car_class_pred = logreg.predict(Car_data_test)\n",
    "\n",
    "precision_usa = precision_score(Car_class_test[Car_class_test == 1], Car_class_pred[Car_class_test == 1])\n",
    "recall_usa = recall_score(Car_class_test[Car_class_test == 1], Car_class_pred[Car_class_test == 1])\n",
    "precision_japan = precision_score(Car_class_test[Car_class_test == 0], Car_class_pred[Car_class_test == 0])\n",
    "recall_japan = recall_score(Car_class_test[Car_class_test == 0], Car_class_pred[Car_class_test == 0])\n",
    "\n",
    "# Print the precision and recall scores for both USA and Japan\n",
    "print('USA precision: {:.2f}, recall: {:.2f}'.format(precision_usa, recall_usa))\n",
    "print('Japan precision: {:.2f}, recall: {:.2f}'.format(precision_japan, recall_japan))"
   ]
  },
  {
   "cell_type": "markdown",
   "id": "b91f7416",
   "metadata": {},
   "source": [
    "## Exercise 4 - Polynomial Regressor using Gradient Descent (20 points in total)\n",
    "Now we are going to look into model fitting. In the dataset cost.csv, the first column is the independent variable cost, and the second column is the dependent variable production_output.\n",
    "\n",
    "### Exercise 4.1 - Split the dataset (5 points)\n",
    "Import the dataset cost.csv and split them into training and testing set with ratio 70:30."
   ]
  },
  {
   "cell_type": "code",
   "execution_count": 42,
   "id": "8df23f3c",
   "metadata": {},
   "outputs": [
    {
     "name": "stdout",
     "output_type": "stream",
     "text": [
      "X train now holds  105 out of the  150 rows; which is 70.0 %\n",
      "y train now holds  105 out of the  150 rows; which is 70.0 %\n"
     ]
    }
   ],
   "source": [
    "from sklearn.model_selection import train_test_split\n",
    "\n",
    "dataset = pd.read_csv('cost.csv')\n",
    "\n",
    "#grabs data given the column name \n",
    "X = dataset[['production_output']] \n",
    "y = dataset['cost']\n",
    "\n",
    "X_train, X_test, y_train, y_test = train_test_split(X,y,test_size=.3,random_state = 42)\n",
    "percentX = len(X_train)/len(X) * 100\n",
    "percentY = len(y_train)/len(y) * 100\n",
    "\n",
    "\n",
    "print(\"X train now holds \",len(X_train), \"out of the \",len(X),\"rows; which is\",percentX,\"%\")\n",
    "print(\"y train now holds \",len(y_train), \"out of the \",len(y),\"rows; which is\",percentY,\"%\")"
   ]
  },
  {
   "cell_type": "markdown",
   "id": "531d7f98",
   "metadata": {},
   "source": [
    "### Exercise 4.2 - Polynomial Regression (15 points)\n",
    "Compute the RMSE and R2 for the training and testing set. Using polynomial regression with degree 1, 2, 3, and 4, which model provides the most appropriate prediction? Justify your answer and plot the models fitted line."
   ]
  },
  {
   "cell_type": "code",
   "execution_count": 43,
   "id": "086759a5",
   "metadata": {},
   "outputs": [
    {
     "name": "stdout",
     "output_type": "stream",
     "text": [
      "\n",
      "Degree 1 Polynomial Regression\n",
      "Training RMSE: 438.842779774984479\n",
      "Training R2: 0.607278651875719\n",
      "Test RMSE: 281.084793492857273\n",
      "Test R2: 0.529908615075548\n"
     ]
    },
    {
     "data": {
      "image/png": "[encoded data removed]",
      "text/plain": [
       "<Figure size 640x480 with 1 Axes>"
      ]
     },
     "metadata": {},
     "output_type": "display_data"
    },
    {
     "name": "stdout",
     "output_type": "stream",
     "text": [
      "\n",
      "Degree 2 Polynomial Regression\n",
      "Training RMSE: 181.973847089905803\n",
      "Training R2: 0.932471897213021\n",
      "Test RMSE: 115.351446278822337\n",
      "Test R2: 0.920831270032224\n"
     ]
    },
    {
     "data": {
      "image/png": "[encoded data removed]",
      "text/plain": [
       "<Figure size 640x480 with 1 Axes>"
      ]
     },
     "metadata": {},
     "output_type": "display_data"
    },
    {
     "name": "stdout",
     "output_type": "stream",
     "text": [
      "\n",
      "Degree 3 Polynomial Regression\n",
      "Training RMSE: 39.467718213921941\n",
      "Training R2: 0.996823487030548\n",
      "Test RMSE: 26.623866930509195\n",
      "Test R2: 0.995782550823147\n"
     ]
    },
    {
     "data": {
      "image/png": "[encoded data removed]",
      "text/plain": [
       "<Figure size 640x480 with 1 Axes>"
      ]
     },
     "metadata": {},
     "output_type": "display_data"
    },
    {
     "name": "stdout",
     "output_type": "stream",
     "text": [
      "\n",
      "Degree 4 Polynomial Regression\n",
      "Training RMSE: 5.995418378537954\n",
      "Training R2: 0.999926699728208\n",
      "Test RMSE: 5.998610509991108\n",
      "Test R2: 0.999785903820228\n"
     ]
    },
    {
     "data": {
      "image/png": "[encoded data removed]",
      "text/plain": [
       "<Figure size 640x480 with 1 Axes>"
      ]
     },
     "metadata": {},
     "output_type": "display_data"
    }
   ],
   "source": [
    "from sklearn.metrics import mean_squared_error, r2_score\n",
    "from sklearn.preprocessing import PolynomialFeatures\n",
    "from sklearn.linear_model import LinearRegression\n",
    "import operator\n",
    "\n",
    "\n",
    "def poly_reg(degreeNumber):\n",
    "    X_train, X_test, y_train, y_test = train_test_split(X,y,test_size=.3,random_state = 42)\n",
    "\n",
    "    polyFeatures = PolynomialFeatures(degree=degreeNumber)\n",
    "    x_poly = polyFeatures.fit_transform(X_train)\n",
    "\n",
    "    model = LinearRegression()\n",
    "    model.fit(x_poly, y_train)\n",
    "\n",
    "    y_train_pred = model.predict(x_poly)\n",
    "    y_test_pred = model.predict(polyFeatures.fit_transform(X_test))\n",
    "\n",
    "    #calculate rmse for the training sets\n",
    "    rmse = np.sqrt(mean_squared_error(y_train, y_train_pred))\n",
    "    r2 = r2_score(y_train, y_train_pred)\n",
    "    #for the test sets\n",
    "    rmse_test = np.sqrt(mean_squared_error(y_test, y_test_pred))\n",
    "    r2_test = r2_score(y_test, y_test_pred)\n",
    "\n",
    "    #print out results\n",
    "    print('\\nDegree %d Polynomial Regression' % degreeNumber)\n",
    "    print('Training RMSE: %8.15f' % rmse)\n",
    "    print('Training R2: %8.15f' % r2)\n",
    "    print('Test RMSE: %8.15f' % rmse_test)\n",
    "    print('Test R2: %8.15f' % r2_test)\n",
    "\n",
    "    #plot training data and regression line\n",
    "    plt.scatter(X_train, y_train, s=10)\n",
    "    sort_axis = operator.itemgetter(0)\n",
    "    sorted_zip = sorted(zip(X_train,y_train_pred), key=sort_axis)\n",
    "    X_train, y_train_pred = zip(*sorted_zip)\n",
    "    plt.plot(X_train, y_train_pred, color='m', label='Degree %d' % degreeNumber)\n",
    "    plt.xlabel('Production Output')\n",
    "    plt.ylabel('Cost')\n",
    "    plt.title('Polynomial Regression')\n",
    "    plt.legend()\n",
    "    plt.show()\n",
    "\n",
    "for i in range(1,5):\n",
    "    poly_reg(i)"
   ]
  },
  {
   "cell_type": "code",
   "execution_count": null,
   "id": "e5075260",
   "metadata": {},
   "outputs": [],
   "source": []
  }
 ],
 "metadata": {
  "kernelspec": {
   "display_name": "Python 3 (ipykernel)",
   "language": "python",
   "name": "python3"
  },
  "language_info": {
   "codemirror_mode": {
    "name": "ipython",
    "version": 3
   },
   "file_extension": ".py",
   "mimetype": "text/x-python",
   "name": "python",
   "nbconvert_exporter": "python",
   "pygments_lexer": "ipython3",
   "version": "3.10.6"
  }
 },
 "nbformat": 4,
 "nbformat_minor": 5
}
